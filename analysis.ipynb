{
 "cells": [
  {
   "cell_type": "code",
   "execution_count": 2,
   "metadata": {
    "collapsed": true,
    "pycharm": {
     "is_executing": false
    }
   },
   "outputs": [],
   "source": [
    "import pandas as pd\n",
    "import numpy as np\n",
    "import matplotlib.pyplot as plt\n",
    "\n",
    "from scipy.stats import ttest_ind"
   ]
  },
  {
   "cell_type": "code",
   "execution_count": 3,
   "outputs": [],
   "source": [
    "filename = \"resultaty.csv\""
   ],
   "metadata": {
    "collapsed": false,
    "pycharm": {
     "name": "#%%\n",
     "is_executing": false
    }
   }
  },
  {
   "cell_type": "code",
   "execution_count": 4,
   "outputs": [],
   "source": [
    "df = pd.read_csv(filename)\n",
    "df = df.drop(columns='Unnamed: 0')"
   ],
   "metadata": {
    "collapsed": false,
    "pycharm": {
     "name": "#%%\n",
     "is_executing": false
    }
   }
  },
  {
   "cell_type": "code",
   "execution_count": 9,
   "outputs": [
    {
     "data": {
      "text/plain": "<map at 0x2097a1900c8>"
     },
     "metadata": {},
     "output_type": "execute_result",
     "execution_count": 9
    }
   ],
   "source": [
    "df.itertuples()"
   ],
   "metadata": {
    "collapsed": false,
    "pycharm": {
     "name": "#%%\n",
     "is_executing": false
    }
   }
  },
  {
   "cell_type": "code",
   "execution_count": 5,
   "outputs": [],
   "source": [
    "grouped = df.groupby(by=[\"layer_size\",\"momentum_value\",\"feature_number\"])"
   ],
   "metadata": {
    "collapsed": false,
    "pycharm": {
     "name": "#%%\n",
     "is_executing": false
    }
   }
  },
  {
   "cell_type": "code",
   "execution_count": 13,
   "outputs": [
    {
     "data": {
      "text/plain": "   layer_size  momentum_value  feature_number\n0       350.0             0.9            17.0\n1       350.0             0.9            44.0\n2       350.0             0.9            52.0\n3       350.0             0.9            51.0\n4       350.0             0.9            48.0\n5       350.0             0.9            15.0\n6       200.0             0.9            32.0\n7       350.0             0.9            42.0\n8       200.0             0.9            56.0\n9       200.0             0.9            41.0",
      "text/html": "<div>\n<style scoped>\n    .dataframe tbody tr th:only-of-type {\n        vertical-align: middle;\n    }\n\n    .dataframe tbody tr th {\n        vertical-align: top;\n    }\n\n    .dataframe thead th {\n        text-align: right;\n    }\n</style>\n<table border=\"1\" class=\"dataframe\">\n  <thead>\n    <tr style=\"text-align: right;\">\n      <th></th>\n      <th>layer_size</th>\n      <th>momentum_value</th>\n      <th>feature_number</th>\n    </tr>\n  </thead>\n  <tbody>\n    <tr>\n      <th>0</th>\n      <td>350.0</td>\n      <td>0.9</td>\n      <td>17.0</td>\n    </tr>\n    <tr>\n      <th>1</th>\n      <td>350.0</td>\n      <td>0.9</td>\n      <td>44.0</td>\n    </tr>\n    <tr>\n      <th>2</th>\n      <td>350.0</td>\n      <td>0.9</td>\n      <td>52.0</td>\n    </tr>\n    <tr>\n      <th>3</th>\n      <td>350.0</td>\n      <td>0.9</td>\n      <td>51.0</td>\n    </tr>\n    <tr>\n      <th>4</th>\n      <td>350.0</td>\n      <td>0.9</td>\n      <td>48.0</td>\n    </tr>\n    <tr>\n      <th>5</th>\n      <td>350.0</td>\n      <td>0.9</td>\n      <td>15.0</td>\n    </tr>\n    <tr>\n      <th>6</th>\n      <td>200.0</td>\n      <td>0.9</td>\n      <td>32.0</td>\n    </tr>\n    <tr>\n      <th>7</th>\n      <td>350.0</td>\n      <td>0.9</td>\n      <td>42.0</td>\n    </tr>\n    <tr>\n      <th>8</th>\n      <td>200.0</td>\n      <td>0.9</td>\n      <td>56.0</td>\n    </tr>\n    <tr>\n      <th>9</th>\n      <td>200.0</td>\n      <td>0.9</td>\n      <td>41.0</td>\n    </tr>\n  </tbody>\n</table>\n</div>"
     },
     "metadata": {},
     "output_type": "execute_result",
     "execution_count": 13
    }
   ],
   "source": [
    "grouped.mean().sort_values(\"score\",ascending=False).head(10).reset_index()"
   ],
   "metadata": {
    "collapsed": false,
    "pycharm": {
     "name": "#%%\n",
     "is_executing": false
    }
   }
  },
  {
   "cell_type": "code",
   "execution_count": 47,
   "outputs": [],
   "source": [
    "def get_n_best_params(grouped_df:pd.DataFrame,n:int=10):\n",
    "    params = pd.Index([\"layer_size\",\"momentum_value\",\"feature_number\"])\n",
    "    n_best = grouped_df.mean().sort_values(\"score\",ascending=False).head(n).reset_index()\n",
    "    return list(n_best[params].itertuples(index=False,name=None))"
   ],
   "metadata": {
    "collapsed": false,
    "pycharm": {
     "name": "#%%\n",
     "is_executing": false
    }
   }
  },
  {
   "cell_type": "code",
   "execution_count": 14,
   "outputs": [],
   "source": [
    "def get_scores_for_feature_number(grouped_df, feature_number:int,layer_sizes=(100,200,350),momentums=(0,0.9)):\n",
    "    scores = []\n",
    "    lists = grouped.score.apply(list)\n",
    "    for layer_size in layer_sizes:\n",
    "        for momentum in momentums:\n",
    "            scores.append(lists[layer_size,momentum,feature_number])\n",
    "    return scores"
   ],
   "metadata": {
    "collapsed": false,
    "pycharm": {
     "name": "#%%\n",
     "is_executing": false
    }
   }
  },
  {
   "cell_type": "code",
   "execution_count": 6,
   "outputs": [],
   "source": [
    "listy = grouped.score.apply(list)"
   ],
   "metadata": {
    "collapsed": false,
    "pycharm": {
     "name": "#%%\n",
     "is_executing": false
    }
   }
  },
  {
   "cell_type": "code",
   "execution_count": 16,
   "outputs": [
    {
     "data": {
      "text/plain": "[[0.2926829268292683,\n  0.4,\n  0.2926829268292683,\n  0.22,\n  0.1574279379157428,\n  0.22,\n  0.2926829268292683,\n  0.25555555555555554,\n  0.3880266075388025,\n  0.37333333333333335],\n [0.4079822616407982,\n  0.4733333333333333,\n  0.4390243902439024,\n  0.25555555555555554,\n  0.4789356984478936,\n  0.25555555555555554,\n  0.4478935698447893,\n  0.25555555555555554,\n  0.4722838137472284,\n  0.44222222222222224],\n [0.3436807095343681,\n  0.34,\n  0.2549889135254989,\n  0.15777777777777774,\n  0.2815964523281597,\n  0.4555555555555556,\n  0.3614190687361419,\n  0.31555555555555553,\n  0.4301552106430155,\n  0.2088888888888889],\n [0.4434589800443459,\n  0.4488888888888889,\n  0.3702882483370288,\n  0.3844444444444444,\n  0.4279379157427938,\n  0.4577777777777778,\n  0.44124168514412415,\n  0.4511111111111111,\n  0.4678492239467849,\n  0.4555555555555556],\n [0.1574279379157428,\n  0.3111111111111111,\n  0.2549889135254989,\n  0.22,\n  0.32815964523281604,\n  0.33111111111111113,\n  0.2195121951219512,\n  0.2977777777777777,\n  0.25277161862527714,\n  0.4533333333333333],\n [0.4456762749445676,\n  0.4577777777777778,\n  0.44124168514412415,\n  0.4666666666666667,\n  0.4257206208425721,\n  0.4177777777777778,\n  0.4545454545454545,\n  0.4577777777777778,\n  0.4456762749445676,\n  0.4177777777777778]]"
     },
     "metadata": {},
     "output_type": "execute_result",
     "execution_count": 16
    }
   ],
   "source": [
    "layer_sizes = [100,200,350]\n",
    "momentums = [0,0.9]\n",
    "features = [1,2,3]\n",
    "get_scores_for_feature_number(grouped,2)"
   ],
   "metadata": {
    "collapsed": false,
    "pycharm": {
     "name": "#%%\n",
     "is_executing": false
    }
   }
  },
  {
   "cell_type": "code",
   "execution_count": 13,
   "outputs": [
    {
     "data": {
      "text/plain": "[0.3680709534368071,\n 0.3088888888888889,\n 0.4656319290465632,\n 0.3022222222222222,\n 0.37694013303769397,\n 0.2688888888888889,\n 0.2195121951219512,\n 0.15777777777777774,\n 0.35476718403547675,\n 0.2911111111111111]"
     },
     "metadata": {},
     "output_type": "execute_result",
     "execution_count": 13
    }
   ],
   "source": [
    "layer_size = 100\n",
    "momentum = 0.9\n",
    "\n",
    "\n",
    "listy[100,0,3]"
   ],
   "metadata": {
    "collapsed": false,
    "pycharm": {
     "name": "#%%\n",
     "is_executing": false
    }
   }
  },
  {
   "cell_type": "code",
   "execution_count": 9,
   "outputs": [
    {
     "traceback": [
      "\u001b[1;31m---------------------------------------------------------------------------\u001b[0m",
      "\u001b[1;31mNameError\u001b[0m                                 Traceback (most recent call last)",
      "\u001b[1;32m<ipython-input-9-5689f1746cac>\u001b[0m in \u001b[0;36m<module>\u001b[1;34m\u001b[0m\n\u001b[0;32m      1\u001b[0m \u001b[0mn\u001b[0m \u001b[1;33m=\u001b[0m \u001b[1;36m20\u001b[0m\u001b[1;33m\u001b[0m\u001b[1;33m\u001b[0m\u001b[0m\n\u001b[0;32m      2\u001b[0m \u001b[0mscores\u001b[0m \u001b[1;33m=\u001b[0m \u001b[1;33m[\u001b[0m\u001b[1;33m]\u001b[0m\u001b[1;33m\u001b[0m\u001b[1;33m\u001b[0m\u001b[0m\n\u001b[1;32m----> 3\u001b[1;33m \u001b[1;32mfor\u001b[0m \u001b[0mparams\u001b[0m \u001b[1;32min\u001b[0m \u001b[0mget_n_best_params\u001b[0m\u001b[1;33m(\u001b[0m\u001b[0mgrouped\u001b[0m\u001b[1;33m,\u001b[0m\u001b[0mn\u001b[0m\u001b[1;33m)\u001b[0m\u001b[1;33m:\u001b[0m\u001b[1;33m\u001b[0m\u001b[1;33m\u001b[0m\u001b[0m\n\u001b[0m\u001b[0;32m      4\u001b[0m     \u001b[0mscores\u001b[0m\u001b[1;33m.\u001b[0m\u001b[0mappend\u001b[0m\u001b[1;33m(\u001b[0m\u001b[0mlist\u001b[0m\u001b[1;33m(\u001b[0m\u001b[0mgrouped\u001b[0m\u001b[1;33m.\u001b[0m\u001b[0mget_group\u001b[0m\u001b[1;33m(\u001b[0m\u001b[0mparams\u001b[0m\u001b[1;33m)\u001b[0m\u001b[1;33m[\u001b[0m\u001b[1;34m\"score\"\u001b[0m\u001b[1;33m]\u001b[0m\u001b[1;33m)\u001b[0m\u001b[1;33m)\u001b[0m\u001b[1;33m\u001b[0m\u001b[1;33m\u001b[0m\u001b[0m\n\u001b[0;32m      5\u001b[0m \u001b[1;33m\u001b[0m\u001b[0m\n",
      "\u001b[1;31mNameError\u001b[0m: name 'get_n_best_params' is not defined"
     ],
     "ename": "NameError",
     "evalue": "name 'get_n_best_params' is not defined",
     "output_type": "error"
    }
   ],
   "source": [
    "n = 20\n",
    "scores = []\n",
    "for params in get_n_best_params(grouped,n):\n",
    "    scores.append(list(grouped.get_group(params)[\"score\"]))\n",
    "    \n",
    "scores"
   ],
   "metadata": {
    "collapsed": false,
    "pycharm": {
     "name": "#%%\n",
     "is_executing": false
    }
   }
  },
  {
   "cell_type": "code",
   "execution_count": 76,
   "outputs": [
    {
     "name": "stdout",
     "text": [
      "t-statistic:\n",
      " [[ 0.00000000e+00  6.19962607e-01  5.46639129e-01  9.00709903e-01\n",
      "   1.63068296e+00  1.33404522e+00  9.31478950e-01  1.02980868e+00\n",
      "   9.52193585e-01  1.55007882e+00  1.88113133e+00  1.64443944e+00\n",
      "   1.92600651e+00  1.23570594e+00  1.70460849e+00  1.47003185e+00\n",
      "   2.40762743e+00  1.66746401e+00  1.63782744e+00  2.35420738e+00]\n",
      " [-6.19962607e-01  0.00000000e+00  5.19374896e-02  3.42492244e-01\n",
      "   5.32170867e-01  4.70620603e-01  4.04460750e-01  4.54839748e-01\n",
      "   5.05151417e-01  8.35780590e-01  9.80955927e-01  8.98232486e-01\n",
      "   1.14461622e+00  8.11272701e-01  1.07225550e+00  9.62294984e-01\n",
      "   1.42363219e+00  1.10042731e+00  1.08856363e+00  1.47289880e+00]\n",
      " [-5.46639129e-01 -5.19374896e-02  0.00000000e+00  2.48684869e-01\n",
      "   3.39900781e-01  3.15916098e-01  3.08633970e-01  3.45010011e-01\n",
      "   4.15151252e-01  6.50898431e-01  7.35827942e-01  6.98057497e-01\n",
      "   9.04363724e-01  7.03978167e-01  8.81548298e-01  8.18938994e-01\n",
      "   1.09410729e+00  9.26924515e-01  9.21733777e-01  1.16401327e+00]\n",
      " [-9.00709903e-01 -3.42492244e-01 -2.48684869e-01  0.00000000e+00\n",
      "   1.70914635e-02  1.59535569e-02  7.23121726e-02  9.92041270e-02\n",
      "   2.07756351e-01  4.00773218e-01  4.69027573e-01  4.46744292e-01\n",
      "   6.63281986e-01  5.16924796e-01  6.59528481e-01  6.16840518e-01\n",
      "   8.47718356e-01  7.18636253e-01  7.16464032e-01  9.30672914e-01]\n",
      " [-1.63068296e+00 -5.32170867e-01 -3.39900781e-01 -1.70914635e-02\n",
      "   0.00000000e+00  4.13247652e-04  7.80511239e-02  1.16243064e-01\n",
      "   2.38715480e-01  5.59689559e-01  7.45431231e-01  6.36915465e-01\n",
      "   9.53778875e-01  5.96551850e-01  8.61832341e-01  7.47245784e-01\n",
      "   1.36238375e+00  8.99593233e-01  8.87384182e-01  1.39038478e+00]\n",
      " [-1.33404522e+00 -4.70620603e-01 -3.15916098e-01 -1.59535569e-02\n",
      "  -4.13247652e-04  0.00000000e+00  7.23471687e-02  1.06542990e-01\n",
      "   2.26675156e-01  5.00412195e-01  6.32401809e-01  5.65646622e-01\n",
      "   8.47851194e-01  5.71726987e-01  7.94117719e-01  7.06080670e-01\n",
      "   1.15798195e+00  8.41711111e-01  8.33205951e-01  1.22023789e+00]\n",
      " [-9.31478950e-01 -4.04460750e-01 -3.08633970e-01 -7.23121726e-02\n",
      "  -7.80511239e-02 -7.23471687e-02  0.00000000e+00  2.23752184e-02\n",
      "   1.39226052e-01  3.03112345e-01  3.56847541e-01  3.45072078e-01\n",
      "   5.50824643e-01  4.44672626e-01  5.60167110e-01  5.32100278e-01\n",
      "   7.13673535e-01  6.24546331e-01  6.24469089e-01  8.00407642e-01]\n",
      " [-1.02980868e+00 -4.54839748e-01 -3.45010011e-01 -9.92041270e-02\n",
      "  -1.16243064e-01 -1.06542990e-01 -2.23752184e-02  0.00000000e+00\n",
      "   1.24312200e-01  2.95030475e-01  3.53412644e-01  3.39591460e-01\n",
      "   5.57377029e-01  4.39823593e-01  5.63782734e-01  5.31636055e-01\n",
      "   7.34535556e-01  6.29090339e-01  6.28481527e-01  8.23384515e-01]\n",
      " [-9.52193585e-01 -5.05151417e-01 -4.15151252e-01 -2.07756351e-01\n",
      "  -2.38715480e-01 -2.26675156e-01 -1.39226052e-01 -1.24312200e-01\n",
      "   0.00000000e+00  1.11906650e-01  1.42346867e-01  1.45816371e-01\n",
      "   3.24791912e-01  2.89576779e-01  3.54185048e-01  3.51943491e-01\n",
      "   4.47111620e-01  4.24945158e-01  4.28509261e-01  5.34666619e-01]\n",
      " [-1.55007882e+00 -8.35780590e-01 -6.50898431e-01 -4.00773218e-01\n",
      "  -5.59689559e-01 -5.00412195e-01 -3.03112345e-01 -2.95030475e-01\n",
      "  -1.11906650e-01  0.00000000e+00  3.26629355e-02  4.38977817e-02\n",
      "   2.83926388e-01  2.35697880e-01  3.17301143e-01  3.10440999e-01\n",
      "   4.60164378e-01  4.02356487e-01  4.05550397e-01  5.70813159e-01]\n",
      " [-1.88113133e+00 -9.80955927e-01 -7.35827942e-01 -4.69027573e-01\n",
      "  -7.45431231e-01 -6.32401809e-01 -3.56847541e-01 -3.53412644e-01\n",
      "  -1.42346867e-01 -3.26629355e-02  0.00000000e+00  1.60892428e-02\n",
      "   2.86890546e-01  2.27138765e-01  3.19050803e-01  3.07846043e-01\n",
      "   4.96893560e-01  4.08588804e-01  4.11181284e-01  6.15021456e-01]\n",
      " [-1.64443944e+00 -8.98232486e-01 -6.98057497e-01 -4.46744292e-01\n",
      "  -6.36915465e-01 -5.65646622e-01 -3.45072078e-01 -3.39591460e-01\n",
      "  -1.45816371e-01 -4.38977817e-02 -1.60892428e-02  0.00000000e+00\n",
      "   2.44856411e-01  2.07584951e-01  2.82842543e-01  2.79923714e-01\n",
      "   4.21841812e-01  3.71282888e-01  3.75062802e-01  5.36645915e-01]\n",
      " [-1.92600651e+00 -1.14461622e+00 -9.04363724e-01 -6.63281986e-01\n",
      "  -9.53778875e-01 -8.47851194e-01 -5.50824643e-01 -5.57377029e-01\n",
      "  -3.24791912e-01 -2.83926388e-01 -2.86890546e-01 -2.44856411e-01\n",
      "   0.00000000e+00  4.16907616e-02  6.72120151e-02  9.28892262e-02\n",
      "   1.50672056e-01  1.71817056e-01  1.79782527e-01  2.82724041e-01]\n",
      " [-1.23570594e+00 -8.11272701e-01 -7.03978167e-01 -5.16924796e-01\n",
      "  -5.96551850e-01 -5.71726987e-01 -4.44672626e-01 -4.39823593e-01\n",
      "  -2.89576779e-01 -2.35697880e-01 -2.27138765e-01 -2.07584951e-01\n",
      "  -4.16907616e-02  0.00000000e+00  9.45801752e-03  3.53654401e-02\n",
      "   5.30120475e-02  9.12989973e-02  9.89605975e-02  1.45895923e-01]\n",
      " [-1.70460849e+00 -1.07225550e+00 -8.81548298e-01 -6.59528481e-01\n",
      "  -8.61832341e-01 -7.94117719e-01 -5.60167110e-01 -5.63782734e-01\n",
      "  -3.54185048e-01 -3.17301143e-01 -3.19050803e-01 -2.82842543e-01\n",
      "  -6.72120151e-02 -9.45801752e-03  0.00000000e+00  3.19754663e-02\n",
      "   5.69925126e-02  1.00454762e-01  1.09309126e-01  1.78074509e-01]\n",
      " [-1.47003185e+00 -9.62294984e-01 -8.18938994e-01 -6.16840518e-01\n",
      "  -7.47245784e-01 -7.06080670e-01 -5.32100278e-01 -5.31636055e-01\n",
      "  -3.51943491e-01 -3.10440999e-01 -3.07846043e-01 -2.79923714e-01\n",
      "  -9.28892262e-02 -3.53654401e-02 -3.19754663e-02  0.00000000e+00\n",
      "   1.19151056e-02  6.00165357e-02  6.87488030e-02  1.18255187e-01]\n",
      " [-2.40762743e+00 -1.42363219e+00 -1.09410729e+00 -8.47718356e-01\n",
      "  -1.36238375e+00 -1.15798195e+00 -7.13673535e-01 -7.34535556e-01\n",
      "  -4.47111620e-01 -4.60164378e-01 -4.96893560e-01 -4.21841812e-01\n",
      "  -1.50672056e-01 -5.30120475e-02 -5.69925126e-02 -1.19151056e-02\n",
      "   0.00000000e+00  6.48511734e-02  7.56094976e-02  1.57893408e-01]\n",
      " [-1.66746401e+00 -1.10042731e+00 -9.26924515e-01 -7.18636253e-01\n",
      "  -8.99593233e-01 -8.41711111e-01 -6.24546331e-01 -6.29090339e-01\n",
      "  -4.24945158e-01 -4.02356487e-01 -4.08588804e-01 -3.71282888e-01\n",
      "  -1.71817056e-01 -9.12989973e-02 -1.00454762e-01 -6.00165357e-02\n",
      "  -6.48511734e-02  0.00000000e+00  1.00550917e-02  5.19012911e-02]\n",
      " [-1.63782744e+00 -1.08856363e+00 -9.21733777e-01 -7.16464032e-01\n",
      "  -8.87384182e-01 -8.33205951e-01 -6.24469089e-01 -6.28481527e-01\n",
      "  -4.28509261e-01 -4.05550397e-01 -4.11181284e-01 -3.75062802e-01\n",
      "  -1.79782527e-01 -9.89605975e-02 -1.09309126e-01 -6.87488030e-02\n",
      "  -7.56094976e-02 -1.00550917e-02  0.00000000e+00  3.89537965e-02]\n",
      " [-2.35420738e+00 -1.47289880e+00 -1.16401327e+00 -9.30672914e-01\n",
      "  -1.39038478e+00 -1.22023789e+00 -8.00407642e-01 -8.23384515e-01\n",
      "  -5.34666619e-01 -5.70813159e-01 -6.15021456e-01 -5.36645915e-01\n",
      "  -2.82724041e-01 -1.45895923e-01 -1.78074509e-01 -1.18255187e-01\n",
      "  -1.57893408e-01 -5.19012911e-02 -3.89537965e-02  0.00000000e+00]] \n",
      "\n",
      "p-value:\n",
      " [[1.         0.54305186 0.59133928 0.37963611 0.12033025 0.19882311\n",
      "  0.363932   0.31673978 0.35361112 0.13852615 0.07623125 0.11743649\n",
      "  0.07004716 0.23245273 0.10546684 0.15881665 0.02700062 0.11272573\n",
      "  0.11881989 0.03012097]\n",
      " [0.54305186 1.         0.95915055 0.73594734 0.60111542 0.64356429\n",
      "  0.69063952 0.65466241 0.6195815  0.4142356  0.3396164  0.38091996\n",
      "  0.2673609  0.4278069  0.29777155 0.34865166 0.17165671 0.28564527\n",
      "  0.29070707 0.15804983]\n",
      " [0.59133928 0.95915055 1.         0.80641984 0.73786538 0.75569998\n",
      "  0.76114347 0.73408555 0.68293773 0.52333503 0.47131613 0.4940612\n",
      "  0.3777479  0.49045415 0.38964127 0.42353174 0.2883337  0.36622837\n",
      "  0.3688575  0.25961602]\n",
      " [0.37963611 0.73594734 0.80641984 1.         0.98655167 0.98744695\n",
      "  0.94315093 0.92207268 0.8377517  0.69330428 0.64468076 0.66038818\n",
      "  0.51555542 0.61150208 0.51790656 0.54506382 0.40772617 0.48159044\n",
      "  0.48289798 0.36433769]\n",
      " [0.12033025 0.60111542 0.73786538 0.98655167 1.         0.99967482\n",
      "  0.93864849 0.908747   0.81402288 0.5825897  0.46563443 0.53219744\n",
      "  0.35282961 0.55823557 0.40011592 0.46456552 0.18988207 0.38021444\n",
      "  0.3865758  0.18136603]\n",
      " [0.19882311 0.64356429 0.75569998 0.98744695 0.99967482 1.\n",
      "  0.94312347 0.91633001 0.82323065 0.62284797 0.53507572 0.57861773\n",
      "  0.40765411 0.57457783 0.43747179 0.48917695 0.26200596 0.4109935\n",
      "  0.41564821 0.2381208 ]\n",
      " [0.363932   0.69063952 0.76114347 0.94315093 0.93864849 0.94312347\n",
      "  1.         0.98239483 0.89081744 0.76527955 0.72535506 0.73403967\n",
      "  0.588526   0.66185692 0.58227078 0.60116331 0.48458075 0.54010527\n",
      "  0.54015485 0.43391239]\n",
      " [0.31673978 0.65466241 0.73408555 0.92207268 0.908747   0.91633001\n",
      "  0.98239483 1.         0.90244581 0.77134651 0.72788446 0.73809444\n",
      "  0.58413534 0.66530025 0.57985902 0.60147831 0.47208392 0.5371928\n",
      "  0.53758252 0.42106514]\n",
      " [0.35361112 0.6195815  0.68293773 0.8377517  0.81402288 0.82323065\n",
      "  0.89081744 0.90244581 1.         0.91213591 0.88838726 0.88568689\n",
      "  0.74908297 0.77544915 0.72731539 0.72896731 0.6601279  0.67591314\n",
      "  0.67336436 0.59942341]\n",
      " [0.13852615 0.4142356  0.52333503 0.69330428 0.5825897  0.62284797\n",
      "  0.76527955 0.77134651 0.91213591 1.         0.97430285 0.9654692\n",
      "  0.77970695 0.81632802 0.75466612 0.75979148 0.65090835 0.69215964\n",
      "  0.6898529  0.57518406]\n",
      " [0.07623125 0.3396164  0.47131613 0.64468076 0.46563443 0.53507572\n",
      "  0.72535506 0.72788446 0.88838726 0.97430285 1.         0.98734019\n",
      "  0.77747243 0.82287561 0.75336077 0.76173323 0.62527839 0.68766136\n",
      "  0.6857937  0.54623793]\n",
      " [0.11743649 0.38091996 0.4940612  0.66038818 0.53219744 0.57861773\n",
      "  0.73403967 0.73809444 0.88568689 0.9654692  0.98734019 1.\n",
      "  0.80933727 0.83788354 0.7805245  0.78272748 0.67813571 0.71476091\n",
      "  0.71199654 0.5980832 ]\n",
      " [0.07004716 0.2673609  0.3777479  0.51555542 0.35282961 0.40765411\n",
      "  0.588526   0.58413534 0.74908297 0.77970695 0.77747243 0.80933727\n",
      "  1.         0.96720419 0.94715387 0.92701764 0.88191006 0.86549829\n",
      "  0.85933171 0.7806139 ]\n",
      " [0.23245273 0.4278069  0.49045415 0.61150208 0.55823557 0.57457783\n",
      "  0.66185692 0.66530025 0.77544915 0.81632802 0.82287561 0.83788354\n",
      "  0.96720419 1.         0.99255774 0.97217759 0.95830623 0.92826338\n",
      "  0.92226332 0.88562499]\n",
      " [0.10546684 0.29777155 0.38964127 0.51790656 0.40011592 0.43747179\n",
      "  0.58227078 0.57985902 0.72731539 0.75466612 0.75336077 0.7805245\n",
      "  0.94715387 0.99255774 1.         0.97484351 0.95517906 0.92109373\n",
      "  0.91416671 0.86065323]\n",
      " [0.15881665 0.34865166 0.42353174 0.54506382 0.46456552 0.48917695\n",
      "  0.60116331 0.60147831 0.72896731 0.75979148 0.76173323 0.78272748\n",
      "  0.92701764 0.97217759 0.97484351 1.         0.99062442 0.95280379\n",
      "  0.94594754 0.90717513]\n",
      " [0.02700062 0.17165671 0.2883337  0.40772617 0.18988207 0.26200596\n",
      "  0.48458075 0.47208392 0.6601279  0.65090835 0.62527839 0.67813571\n",
      "  0.88191006 0.95830623 0.95517906 0.99062442 1.         0.94900731\n",
      "  0.9405638  0.87629859]\n",
      " [0.11272573 0.28564527 0.36622837 0.48159044 0.38021444 0.4109935\n",
      "  0.54010527 0.5371928  0.67591314 0.69215964 0.68766136 0.71476091\n",
      "  0.86549829 0.92826338 0.92109373 0.95280379 0.94900731 1.\n",
      "  0.99208794 0.959179  ]\n",
      " [0.11881989 0.29070707 0.3688575  0.48289798 0.3865758  0.41564821\n",
      "  0.54015485 0.53758252 0.67336436 0.6898529  0.6857937  0.71199654\n",
      "  0.85933171 0.92226332 0.91416671 0.94594754 0.9405638  0.99208794\n",
      "  1.         0.96935602]\n",
      " [0.03012097 0.15804983 0.25961602 0.36433769 0.18136603 0.2381208\n",
      "  0.43391239 0.42106514 0.59942341 0.57518406 0.54623793 0.5980832\n",
      "  0.7806139  0.88562499 0.86065323 0.90717513 0.87629859 0.959179\n",
      "  0.96935602 1.        ]]\n"
     ],
     "output_type": "stream"
    }
   ],
   "source": [
    "t_statistic = np.zeros((n,n))\n",
    "p_value = np.zeros((n,n))\n",
    "\n",
    "for i in range(n):\n",
    "    for j in range(n):\n",
    "        t_statistic[i, j], p_value[i, j] = ttest_ind(scores[i], scores[j])\n",
    " \n",
    "print(\"t-statistic:\\n\", t_statistic, \"\\n\\np-value:\\n\", p_value)"
   ],
   "metadata": {
    "collapsed": false,
    "pycharm": {
     "name": "#%%\n",
     "is_executing": false
    }
   }
  },
  {
   "cell_type": "code",
   "execution_count": 77,
   "outputs": [
    {
     "name": "stdout",
     "text": [
      "Statistical significance (alpha = 0.05):\n",
      " [[0. 0. 0. 0. 0. 0. 0. 0. 0. 0. 0. 0. 0. 0. 0. 0. 1. 0. 0. 1.]\n",
      " [0. 0. 0. 0. 0. 0. 0. 0. 0. 0. 0. 0. 0. 0. 0. 0. 0. 0. 0. 0.]\n",
      " [0. 0. 0. 0. 0. 0. 0. 0. 0. 0. 0. 0. 0. 0. 0. 0. 0. 0. 0. 0.]\n",
      " [0. 0. 0. 0. 0. 0. 0. 0. 0. 0. 0. 0. 0. 0. 0. 0. 0. 0. 0. 0.]\n",
      " [0. 0. 0. 0. 0. 0. 0. 0. 0. 0. 0. 0. 0. 0. 0. 0. 0. 0. 0. 0.]\n",
      " [0. 0. 0. 0. 0. 0. 0. 0. 0. 0. 0. 0. 0. 0. 0. 0. 0. 0. 0. 0.]\n",
      " [0. 0. 0. 0. 0. 0. 0. 0. 0. 0. 0. 0. 0. 0. 0. 0. 0. 0. 0. 0.]\n",
      " [0. 0. 0. 0. 0. 0. 0. 0. 0. 0. 0. 0. 0. 0. 0. 0. 0. 0. 0. 0.]\n",
      " [0. 0. 0. 0. 0. 0. 0. 0. 0. 0. 0. 0. 0. 0. 0. 0. 0. 0. 0. 0.]\n",
      " [0. 0. 0. 0. 0. 0. 0. 0. 0. 0. 0. 0. 0. 0. 0. 0. 0. 0. 0. 0.]\n",
      " [0. 0. 0. 0. 0. 0. 0. 0. 0. 0. 0. 0. 0. 0. 0. 0. 0. 0. 0. 0.]\n",
      " [0. 0. 0. 0. 0. 0. 0. 0. 0. 0. 0. 0. 0. 0. 0. 0. 0. 0. 0. 0.]\n",
      " [0. 0. 0. 0. 0. 0. 0. 0. 0. 0. 0. 0. 0. 0. 0. 0. 0. 0. 0. 0.]\n",
      " [0. 0. 0. 0. 0. 0. 0. 0. 0. 0. 0. 0. 0. 0. 0. 0. 0. 0. 0. 0.]\n",
      " [0. 0. 0. 0. 0. 0. 0. 0. 0. 0. 0. 0. 0. 0. 0. 0. 0. 0. 0. 0.]\n",
      " [0. 0. 0. 0. 0. 0. 0. 0. 0. 0. 0. 0. 0. 0. 0. 0. 0. 0. 0. 0.]\n",
      " [1. 0. 0. 0. 0. 0. 0. 0. 0. 0. 0. 0. 0. 0. 0. 0. 0. 0. 0. 0.]\n",
      " [0. 0. 0. 0. 0. 0. 0. 0. 0. 0. 0. 0. 0. 0. 0. 0. 0. 0. 0. 0.]\n",
      " [0. 0. 0. 0. 0. 0. 0. 0. 0. 0. 0. 0. 0. 0. 0. 0. 0. 0. 0. 0.]\n",
      " [1. 0. 0. 0. 0. 0. 0. 0. 0. 0. 0. 0. 0. 0. 0. 0. 0. 0. 0. 0.]]\n"
     ],
     "output_type": "stream"
    }
   ],
   "source": [
    "alpha = .05\n",
    "significance = np.zeros((n, n))\n",
    "significance[p_value <= alpha] = 1\n",
    "#significance_table = tabulate(np.concatenate(\n",
    " #   (names_column, significance), axis=1), headers)\n",
    "print(\"Statistical significance (alpha = 0.05):\\n\", significance)"
   ],
   "metadata": {
    "collapsed": false,
    "pycharm": {
     "name": "#%%\n",
     "is_executing": false
    }
   }
  },
  {
   "cell_type": "code",
   "execution_count": 78,
   "outputs": [
    {
     "name": "stdout",
     "text": [
      "Advantage:\n",
      " [[0. 1. 1. 1. 1. 1. 1. 1. 1. 1. 1. 1. 1. 1. 1. 1. 1. 1. 1. 1.]\n",
      " [0. 0. 1. 1. 1. 1. 1. 1. 1. 1. 1. 1. 1. 1. 1. 1. 1. 1. 1. 1.]\n",
      " [0. 0. 0. 1. 1. 1. 1. 1. 1. 1. 1. 1. 1. 1. 1. 1. 1. 1. 1. 1.]\n",
      " [0. 0. 0. 0. 1. 1. 1. 1. 1. 1. 1. 1. 1. 1. 1. 1. 1. 1. 1. 1.]\n",
      " [0. 0. 0. 0. 0. 1. 1. 1. 1. 1. 1. 1. 1. 1. 1. 1. 1. 1. 1. 1.]\n",
      " [0. 0. 0. 0. 0. 0. 1. 1. 1. 1. 1. 1. 1. 1. 1. 1. 1. 1. 1. 1.]\n",
      " [0. 0. 0. 0. 0. 0. 0. 1. 1. 1. 1. 1. 1. 1. 1. 1. 1. 1. 1. 1.]\n",
      " [0. 0. 0. 0. 0. 0. 0. 0. 1. 1. 1. 1. 1. 1. 1. 1. 1. 1. 1. 1.]\n",
      " [0. 0. 0. 0. 0. 0. 0. 0. 0. 1. 1. 1. 1. 1. 1. 1. 1. 1. 1. 1.]\n",
      " [0. 0. 0. 0. 0. 0. 0. 0. 0. 0. 1. 1. 1. 1. 1. 1. 1. 1. 1. 1.]\n",
      " [0. 0. 0. 0. 0. 0. 0. 0. 0. 0. 0. 1. 1. 1. 1. 1. 1. 1. 1. 1.]\n",
      " [0. 0. 0. 0. 0. 0. 0. 0. 0. 0. 0. 0. 1. 1. 1. 1. 1. 1. 1. 1.]\n",
      " [0. 0. 0. 0. 0. 0. 0. 0. 0. 0. 0. 0. 0. 1. 1. 1. 1. 1. 1. 1.]\n",
      " [0. 0. 0. 0. 0. 0. 0. 0. 0. 0. 0. 0. 0. 0. 1. 1. 1. 1. 1. 1.]\n",
      " [0. 0. 0. 0. 0. 0. 0. 0. 0. 0. 0. 0. 0. 0. 0. 1. 1. 1. 1. 1.]\n",
      " [0. 0. 0. 0. 0. 0. 0. 0. 0. 0. 0. 0. 0. 0. 0. 0. 1. 1. 1. 1.]\n",
      " [0. 0. 0. 0. 0. 0. 0. 0. 0. 0. 0. 0. 0. 0. 0. 0. 0. 1. 1. 1.]\n",
      " [0. 0. 0. 0. 0. 0. 0. 0. 0. 0. 0. 0. 0. 0. 0. 0. 0. 0. 1. 1.]\n",
      " [0. 0. 0. 0. 0. 0. 0. 0. 0. 0. 0. 0. 0. 0. 0. 0. 0. 0. 0. 1.]\n",
      " [0. 0. 0. 0. 0. 0. 0. 0. 0. 0. 0. 0. 0. 0. 0. 0. 0. 0. 0. 0.]]\n"
     ],
     "output_type": "stream"
    }
   ],
   "source": [
    "advantage = np.zeros((n, n))\n",
    "advantage[t_statistic > 0] = 1\n",
    "#advantage_table = tabulate(np.concatenate(\n",
    " #   (names_column, advantage), axis=1), headers)\n",
    "print(\"Advantage:\\n\", advantage)"
   ],
   "metadata": {
    "collapsed": false,
    "pycharm": {
     "name": "#%%\n",
     "is_executing": false
    }
   }
  },
  {
   "cell_type": "code",
   "execution_count": 79,
   "outputs": [
    {
     "name": "stdout",
     "text": [
      "Statistically significantly better:\n",
      " [[0. 0. 0. 0. 0. 0. 0. 0. 0. 0. 0. 0. 0. 0. 0. 0. 1. 0. 0. 1.]\n",
      " [0. 0. 0. 0. 0. 0. 0. 0. 0. 0. 0. 0. 0. 0. 0. 0. 0. 0. 0. 0.]\n",
      " [0. 0. 0. 0. 0. 0. 0. 0. 0. 0. 0. 0. 0. 0. 0. 0. 0. 0. 0. 0.]\n",
      " [0. 0. 0. 0. 0. 0. 0. 0. 0. 0. 0. 0. 0. 0. 0. 0. 0. 0. 0. 0.]\n",
      " [0. 0. 0. 0. 0. 0. 0. 0. 0. 0. 0. 0. 0. 0. 0. 0. 0. 0. 0. 0.]\n",
      " [0. 0. 0. 0. 0. 0. 0. 0. 0. 0. 0. 0. 0. 0. 0. 0. 0. 0. 0. 0.]\n",
      " [0. 0. 0. 0. 0. 0. 0. 0. 0. 0. 0. 0. 0. 0. 0. 0. 0. 0. 0. 0.]\n",
      " [0. 0. 0. 0. 0. 0. 0. 0. 0. 0. 0. 0. 0. 0. 0. 0. 0. 0. 0. 0.]\n",
      " [0. 0. 0. 0. 0. 0. 0. 0. 0. 0. 0. 0. 0. 0. 0. 0. 0. 0. 0. 0.]\n",
      " [0. 0. 0. 0. 0. 0. 0. 0. 0. 0. 0. 0. 0. 0. 0. 0. 0. 0. 0. 0.]\n",
      " [0. 0. 0. 0. 0. 0. 0. 0. 0. 0. 0. 0. 0. 0. 0. 0. 0. 0. 0. 0.]\n",
      " [0. 0. 0. 0. 0. 0. 0. 0. 0. 0. 0. 0. 0. 0. 0. 0. 0. 0. 0. 0.]\n",
      " [0. 0. 0. 0. 0. 0. 0. 0. 0. 0. 0. 0. 0. 0. 0. 0. 0. 0. 0. 0.]\n",
      " [0. 0. 0. 0. 0. 0. 0. 0. 0. 0. 0. 0. 0. 0. 0. 0. 0. 0. 0. 0.]\n",
      " [0. 0. 0. 0. 0. 0. 0. 0. 0. 0. 0. 0. 0. 0. 0. 0. 0. 0. 0. 0.]\n",
      " [0. 0. 0. 0. 0. 0. 0. 0. 0. 0. 0. 0. 0. 0. 0. 0. 0. 0. 0. 0.]\n",
      " [0. 0. 0. 0. 0. 0. 0. 0. 0. 0. 0. 0. 0. 0. 0. 0. 0. 0. 0. 0.]\n",
      " [0. 0. 0. 0. 0. 0. 0. 0. 0. 0. 0. 0. 0. 0. 0. 0. 0. 0. 0. 0.]\n",
      " [0. 0. 0. 0. 0. 0. 0. 0. 0. 0. 0. 0. 0. 0. 0. 0. 0. 0. 0. 0.]\n",
      " [0. 0. 0. 0. 0. 0. 0. 0. 0. 0. 0. 0. 0. 0. 0. 0. 0. 0. 0. 0.]]\n"
     ],
     "output_type": "stream"
    }
   ],
   "source": [
    "stat_better = significance * advantage\n",
    "# stat_better_table = tabulate(np.concatenate(\n",
    "#     (names_column, stat_better), axis=1), headers)\n",
    "print(\"Statistically significantly better:\\n\", stat_better)\n",
    "\n"
   ],
   "metadata": {
    "collapsed": false,
    "pycharm": {
     "name": "#%%\n",
     "is_executing": false
    }
   }
  },
  {
   "cell_type": "code",
   "execution_count": 42,
   "outputs": [],
   "source": [
    "y1 = []\n",
    "y2 = []\n",
    "y3 = []\n",
    "for i in range(1,58):\n",
    "    y1.append(grouped.get_group((100,0.9,i)).mean()[\"score\"])\n",
    "    y2.append(grouped.get_group((200,0.9,i)).mean()[\"score\"])\n",
    "    y3.append(grouped.get_group((350,0.9,i)).mean()[\"score\"])\n",
    "    "
   ],
   "metadata": {
    "collapsed": false,
    "pycharm": {
     "name": "#%%\n",
     "is_executing": false
    }
   }
  },
  {
   "cell_type": "code",
   "execution_count": 27,
   "outputs": [
    {
     "data": {
      "text/plain": "<Figure size 432x288 with 1 Axes>",
      "image/png": "[encoded data removed]"
     },
     "metadata": {
      "needs_background": "light"
     },
     "output_type": "display_data"
    }
   ],
   "source": [
    "\n",
    "plt.ylim([0,0.6])\n",
    "plt.plot(y1,'r',label=\"100 neuronów\")\n",
    "plt.plot(y2,'b',label=\"200 neuronów\")\n",
    "plt.plot(y3,'g',label=\"350 neuronów\")\n",
    "plt.ylabel(\"Trafność\")\n",
    "plt.xlabel(\"Liczba cech\")\n",
    "plt.legend()\n",
    "plt.grid(True)\n",
    "\n",
    "#plt.title(\"\")\n",
    "#plt.show()\n",
    "\n",
    "plt.savefig(\"zmomentum.pdf\")"
   ],
   "metadata": {
    "collapsed": false,
    "pycharm": {
     "name": "#%%\n",
     "is_executing": false
    }
   }
  },
  {
   "cell_type": "code",
   "execution_count": 228,
   "outputs": [
    {
     "name": "stderr",
     "text": [
      "No handles with labels found to put in legend.\n",
      "Exception in Tkinter callback\n",
      "Traceback (most recent call last):\n",
      "  File \"C:\\Program Files\\Python37\\lib\\tkinter\\__init__.py\", line 1705, in __call__\n",
      "    return self.func(*args)\n",
      "  File \"C:\\Program Files\\Python37\\lib\\tkinter\\__init__.py\", line 749, in callit\n",
      "    func(*args)\n",
      "  File \"d:\\studia\\vii semestr\\mstwm2\\venv\\lib\\site-packages\\matplotlib\\backends\\_backend_tk.py\", line 253, in idle_draw\n",
      "    self.draw()\n",
      "  File \"d:\\studia\\vii semestr\\mstwm2\\venv\\lib\\site-packages\\matplotlib\\backends\\backend_tkagg.py\", line 9, in draw\n",
      "    super(FigureCanvasTkAgg, self).draw()\n",
      "  File \"d:\\studia\\vii semestr\\mstwm2\\venv\\lib\\site-packages\\matplotlib\\backends\\backend_agg.py\", line 407, in draw\n",
      "    self.figure.draw(self.renderer)\n",
      "  File \"d:\\studia\\vii semestr\\mstwm2\\venv\\lib\\site-packages\\matplotlib\\backend_bases.py\", line 1544, in _draw\n",
      "    def _draw(renderer): raise Done(renderer)\n",
      "matplotlib.backend_bases._get_renderer.<locals>.Done: <matplotlib.backends.backend_agg.RendererAgg object at 0x000001EF2CA7C9C8>\n",
      "Exception in Tkinter callback\n",
      "Traceback (most recent call last):\n",
      "  File \"C:\\Program Files\\Python37\\lib\\tkinter\\__init__.py\", line 1705, in __call__\n",
      "    return self.func(*args)\n",
      "  File \"d:\\studia\\vii semestr\\mstwm2\\venv\\lib\\site-packages\\matplotlib\\backends\\_backend_tk.py\", line 242, in resize\n",
      "    self.draw()\n",
      "  File \"d:\\studia\\vii semestr\\mstwm2\\venv\\lib\\site-packages\\matplotlib\\backends\\backend_tkagg.py\", line 9, in draw\n",
      "    super(FigureCanvasTkAgg, self).draw()\n",
      "  File \"d:\\studia\\vii semestr\\mstwm2\\venv\\lib\\site-packages\\matplotlib\\backends\\backend_agg.py\", line 407, in draw\n",
      "    self.figure.draw(self.renderer)\n",
      "  File \"d:\\studia\\vii semestr\\mstwm2\\venv\\lib\\site-packages\\matplotlib\\backend_bases.py\", line 1544, in _draw\n",
      "    def _draw(renderer): raise Done(renderer)\n",
      "matplotlib.backend_bases._get_renderer.<locals>.Done: <matplotlib.backends.backend_agg.RendererAgg object at 0x000001EF2CA7C9C8>\n",
      "Exception in Tkinter callback\n",
      "Traceback (most recent call last):\n",
      "  File \"C:\\Program Files\\Python37\\lib\\tkinter\\__init__.py\", line 1705, in __call__\n",
      "    return self.func(*args)\n",
      "  File \"C:\\Program Files\\Python37\\lib\\tkinter\\__init__.py\", line 749, in callit\n",
      "    func(*args)\n",
      "  File \"d:\\studia\\vii semestr\\mstwm2\\venv\\lib\\site-packages\\matplotlib\\backends\\_backend_tk.py\", line 253, in idle_draw\n",
      "    self.draw()\n",
      "  File \"d:\\studia\\vii semestr\\mstwm2\\venv\\lib\\site-packages\\matplotlib\\backends\\backend_tkagg.py\", line 9, in draw\n",
      "    super(FigureCanvasTkAgg, self).draw()\n",
      "  File \"d:\\studia\\vii semestr\\mstwm2\\venv\\lib\\site-packages\\matplotlib\\backends\\backend_agg.py\", line 407, in draw\n",
      "    self.figure.draw(self.renderer)\n",
      "  File \"d:\\studia\\vii semestr\\mstwm2\\venv\\lib\\site-packages\\matplotlib\\backend_bases.py\", line 1544, in _draw\n",
      "    def _draw(renderer): raise Done(renderer)\n",
      "matplotlib.backend_bases._get_renderer.<locals>.Done: <matplotlib.backends.backend_agg.RendererAgg object at 0x000001EF2CA7C9C8>\n"
     ],
     "output_type": "stream"
    },
    {
     "traceback": [
      "\u001b[1;31m---------------------------------------------------------------------------\u001b[0m",
      "\u001b[1;31mTypeError\u001b[0m                                 Traceback (most recent call last)",
      "\u001b[1;32m<ipython-input-228-3c585dfff993>\u001b[0m in \u001b[0;36m<module>\u001b[1;34m\u001b[0m\n\u001b[0;32m      4\u001b[0m \u001b[0mplt\u001b[0m\u001b[1;33m.\u001b[0m\u001b[0mplot\u001b[0m\u001b[1;33m(\u001b[0m\u001b[0my2\u001b[0m\u001b[1;33m)\u001b[0m\u001b[1;33m\u001b[0m\u001b[1;33m\u001b[0m\u001b[0m\n\u001b[0;32m      5\u001b[0m \u001b[0mplt\u001b[0m\u001b[1;33m.\u001b[0m\u001b[0mplot\u001b[0m\u001b[1;33m(\u001b[0m\u001b[0my3\u001b[0m\u001b[1;33m,\u001b[0m\u001b[1;34m'g'\u001b[0m\u001b[1;33m)\u001b[0m\u001b[1;33m\u001b[0m\u001b[1;33m\u001b[0m\u001b[0m\n\u001b[1;32m----> 6\u001b[1;33m \u001b[0mplt\u001b[0m\u001b[1;33m.\u001b[0m\u001b[0mgrid\u001b[0m\u001b[1;33m(\u001b[0m\u001b[1;32mTrue\u001b[0m\u001b[1;33m)\u001b[0m\u001b[1;33m\u001b[0m\u001b[1;33m\u001b[0m\u001b[0m\n\u001b[0m\u001b[0;32m      7\u001b[0m \u001b[0mplt\u001b[0m\u001b[1;33m.\u001b[0m\u001b[0mshow\u001b[0m\u001b[1;33m(\u001b[0m\u001b[1;33m)\u001b[0m\u001b[1;33m\u001b[0m\u001b[1;33m\u001b[0m\u001b[0m\n\u001b[0;32m      8\u001b[0m \u001b[1;33m\u001b[0m\u001b[0m\n",
      "\u001b[1;31mTypeError\u001b[0m: 'bool' object is not callable"
     ],
     "ename": "TypeError",
     "evalue": "'bool' object is not callable",
     "output_type": "error"
    },
    {
     "data": {
      "text/plain": "<Figure size 432x288 with 1 Axes>",
      "image/png": "[encoded data removed]"
     },
     "metadata": {
      "needs_background": "light"
     },
     "output_type": "display_data"
    }
   ],
   "source": [
    "plt.ylim([0,0.6])\n",
    "plt.legend()\n",
    "plt.plot(y1,'r')\n",
    "plt.plot(y2)\n",
    "plt.plot(y3,'g')\n",
    "plt.grid(True)\n",
    "plt.show()\n"
   ],
   "metadata": {
    "collapsed": false,
    "pycharm": {
     "name": "#%%\n",
     "is_executing": false
    }
   }
  },
  {
   "cell_type": "code",
   "execution_count": 187,
   "outputs": [
    {
     "data": {
      "text/plain": "array([[  0.,   6.,  12.,   8.,   8.],\n       [  0.,  17.,  21.,  15.,  18.],\n       [  0.,   3.,  93.,   5.,  14.],\n       [  0.,   1.,   0., 122.,   8.],\n       [  0.,  10.,   6.,  39.,  44.]])"
     },
     "metadata": {},
     "output_type": "execute_result",
     "execution_count": 187
    }
   ],
   "source": [
    "a = np.loadtxt(\"best_matrix.txt\")\n",
    "a"
   ],
   "metadata": {
    "collapsed": false,
    "pycharm": {
     "name": "#%%\n",
     "is_executing": false
    }
   }
  }
 ],
 "metadata": {
  "kernelspec": {
   "name": "python3",
   "language": "python",
   "display_name": "Python 3"
  },
  "language_info": {
   "codemirror_mode": {
    "name": "ipython",
    "version": 2
   },
   "file_extension": ".py",
   "mimetype": "text/x-python",
   "name": "python",
   "nbconvert_exporter": "python",
   "pygments_lexer": "ipython2",
   "version": "2.7.6"
  },
  "pycharm": {
   "stem_cell": {
    "cell_type": "raw",
    "source": [],
    "metadata": {
     "collapsed": false
    }
   }
  }
 },
 "nbformat": 4,
 "nbformat_minor": 0
}