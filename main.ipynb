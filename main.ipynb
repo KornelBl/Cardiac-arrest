{
 "cells": [
  {
   "cell_type": "code",
   "execution_count": 1,
   "outputs": [],
   "source": [
    "import numpy as np\n",
    "import glob\n",
    "\n",
    "def get_data(files):\n",
    "    X = np.loadtxt(files[0], dtype=np.int64, delimiter='\\t')\n",
    "    X = X.T\n",
    "    Y = len(X)*[0]\n",
    "\n",
    "    for index in range(len(files)-1):\n",
    "        temp_matrix = np.loadtxt(files[index+1], dtype=np.int64, delimiter='\\t')\n",
    "        temp_matrix = temp_matrix.T\n",
    "\n",
    "        X = np.concatenate((X, temp_matrix))\n",
    "        Y = np.concatenate((Y, len(temp_matrix)*[index+1]))\n",
    "\n",
    "    return X, Y\n",
    "\n",
    "files = glob.glob('dataset/*.txt')\n",
    "X, Y = get_data(files)"
   ],
   "metadata": {
    "collapsed": false,
    "pycharm": {
     "name": "#%%\n"
    }
   }
  },
  {
   "cell_type": "code",
   "execution_count": 6,
   "outputs": [
    {
     "name": "stdout",
     "output_type": "stream",
     "text": [
      "Selected feature: 3 with score: 340.518254073794\n",
      "Selected feature: 7 with score: 978.5777465914008\n",
      "Selected feature: 36 with score: 1980.2345300860445\n",
      "Selected feature: 50 with score: 200.25588898686226\n",
      "Selected feature: 52 with score: 188.224103615246\n",
      "Selected feature: 54 with score: 223.46820976892678\n",
      "Selected feature: 55 with score: 176.9996878058843\n",
      "Selected feature: 56 with score: 193.3976609689594\n",
      "Selected feature: 57 with score: 151.67195675769256\n",
      "Selected feature: 58 with score: 159.89154624936933\n"
     ]
    }
   ],
   "source": [
    "from sklearn.feature_selection import SelectKBest, chi2\n",
    "\n",
    "features_rank = SelectKBest(chi2, k=10)\n",
    "features_rank.fit(X, Y)\n",
    "selected = features_rank.get_support(True)\n",
    "\n",
    "for feature in selected:\n",
    "    print(f\"Selected feature: {feature+1} \"\n",
    "          f\"with score: {features_rank.scores_[feature]}\")\n",
    "\n"
   ],
   "metadata": {
    "collapsed": false,
    "pycharm": {
     "name": "#%%\n"
    }
   }
  }
 ],
 "metadata": {
  "kernelspec": {
   "display_name": "Python 3",
   "language": "python",
   "name": "python3"
  },
  "language_info": {
   "codemirror_mode": {
    "name": "ipython",
    "version": 2
   },
   "file_extension": ".py",
   "mimetype": "text/x-python",
   "name": "python",
   "nbconvert_exporter": "python",
   "pygments_lexer": "ipython2",
   "version": "2.7.6"
  }
 },
 "nbformat": 4,
 "nbformat_minor": 0
}