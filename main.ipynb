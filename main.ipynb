{
 "cells": [
  {
   "cell_type": "code",
   "execution_count": 29,
   "metadata": {
    "collapsed": true,
    "pycharm": {
     "is_executing": false
    }
   },
   "outputs": [],
   "source": [
    "import pandas as pd\n",
    "import numpy as np\n",
    "import os\n",
    "import glob\n",
    "from sklearn.feature_selection import SelectKBest, chi2, f_classif\n"
   ]
  },
  {
   "cell_type": "code",
   "execution_count": 3,
   "outputs": [],
   "source": [
    "#skl.feature_selection.SelectKBest(\"chi2\",k=10)"
   ],
   "metadata": {
    "collapsed": false,
    "pycharm": {
     "name": "#%%\n",
     "is_executing": false
    }
   }
  },
  {
   "cell_type": "code",
   "execution_count": 6,
   "outputs": [],
   "source": [
    "def get_data(files):\n",
    "    data_matrix = np.loadtxt(files[0], dtype='i', delimiter='\\t')\n",
    "    data_matrix = data_matrix.T\n",
    "\n",
    "    last_col = [0] * len(data_matrix)\n",
    "    data_matrix = np.column_stack((data_matrix, last_col))\n",
    "\n",
    "    for x in range(len(files) - 1):\n",
    "        temp_matrix = np.loadtxt(files[x + 1], dtype='i', delimiter='\\t')\n",
    "        temp_matrix = temp_matrix.T\n",
    "        last_col = [x+1] * len(temp_matrix)\n",
    "        temp_matrix = np.column_stack((temp_matrix, last_col))\n",
    "        data_matrix = np.concatenate((data_matrix, temp_matrix), axis=0)\n",
    "\n",
    "    X = data_matrix[:, :-1]\n",
    "    Y = data_matrix[:, -1]\n",
    "    return X, Y"
   ],
   "metadata": {
    "collapsed": false,
    "pycharm": {
     "name": "#%%\n",
     "is_executing": false
    }
   }
  },
  {
   "cell_type": "code",
   "execution_count": 7,
   "outputs": [],
   "source": [
    "files = glob.glob('dataset/*.txt')\n",
    "X, Y = get_data(files)"
   ],
   "metadata": {
    "collapsed": false,
    "pycharm": {
     "name": "#%%\n",
     "is_executing": false
    }
   }
  },
  {
   "cell_type": "code",
   "execution_count": 43,
   "outputs": [],
   "source": [
    "files = glob.glob('dataset/*.txt')\n",
    "X, Y = get_data(files)\n",
    "\n",
    "fvalue_selector = SelectKBest(chi2, k=10)\n",
    "fvalue_selector.fit(X, Y)\n",
    "\n",
    "rank = fvalue_selector.scores_\n",
    "top_rank = []\n",
    "indexes = rank.argsort()[-10:][::-1]\n",
    "\n",
    "for index in indexes:\n",
    "    top_rank.append(rank[index])\n",
    "    "
   ],
   "metadata": {
    "collapsed": false,
    "pycharm": {
     "name": "#%%\n",
     "is_executing": false
    }
   }
  },
  {
   "cell_type": "code",
   "execution_count": 45,
   "outputs": [
    {
     "data": {
      "text/plain": "array([35,  6,  2, 53, 49, 55, 51, 54, 57, 56], dtype=int64)"
     },
     "metadata": {},
     "output_type": "execute_result",
     "execution_count": 45
    }
   ],
   "source": [
    "indexes"
   ],
   "metadata": {
    "collapsed": false,
    "pycharm": {
     "name": "#%%\n",
     "is_executing": false
    }
   }
  }
 ],
 "metadata": {
  "kernelspec": {
   "display_name": "Python 3",
   "language": "python",
   "name": "python3"
  },
  "language_info": {
   "codemirror_mode": {
    "name": "ipython",
    "version": 2
   },
   "file_extension": ".py",
   "mimetype": "text/x-python",
   "name": "python",
   "nbconvert_exporter": "python",
   "pygments_lexer": "ipython2",
   "version": "2.7.6"
  },
  "pycharm": {
   "stem_cell": {
    "cell_type": "raw",
    "source": [],
    "metadata": {
     "collapsed": false
    }
   }
  }
 },
 "nbformat": 4,
 "nbformat_minor": 0
}