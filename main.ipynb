{
 "cells": [
  {
   "cell_type": "code",
   "execution_count": 2,
   "metadata": {
    "collapsed": true,
    "pycharm": {
     "is_executing": false
    }
   },
   "outputs": [],
   "source": [
    "import matplotlib.pyplot as plt\n",
    "import pandas as pd\n",
    "import numpy as np\n",
    "import glob\n",
    "from sklearn.model_selection import RepeatedStratifiedKFold\n",
    "from sklearn.feature_selection import SelectKBest, chi2\n",
    "from trainer import train_evaluate\n",
    "\n",
    "from feature_selection import get_k_best\n",
    "import json"
   ]
  },
  {
   "cell_type": "code",
   "execution_count": 3,
   "outputs": [],
   "source": [
    "def get_data(files):\n",
    "    data_matrix = np.loadtxt(files[0], dtype='i', delimiter='\\t')\n",
    "    data_matrix = data_matrix.T\n",
    "\n",
    "    last_col = [0] * len(data_matrix)\n",
    "    data_matrix = np.column_stack((data_matrix, last_col))\n",
    "\n",
    "    for x in range(len(files) - 1):\n",
    "        temp_matrix = np.loadtxt(files[x + 1], dtype='i', delimiter='\\t')\n",
    "        temp_matrix = temp_matrix.T\n",
    "        last_col = [x+1] * len(temp_matrix)\n",
    "        temp_matrix = np.column_stack((temp_matrix, last_col))\n",
    "        data_matrix = np.concatenate((data_matrix, temp_matrix), axis=0)\n",
    "\n",
    "    X = data_matrix[:, :-1]\n",
    "    Y = data_matrix[:, -1]\n",
    "    return X, Y"
   ],
   "metadata": {
    "collapsed": false,
    "pycharm": {
     "name": "#%%\n",
     "is_executing": false
    }
   }
  },
  {
   "cell_type": "code",
   "execution_count": 4,
   "outputs": [
    {
     "data": {
      "text/plain": "array([[  5,  20, 135, ...,   1,   1,   0],\n       [  2,  18, 127, ...,   1,   1,   1],\n       [  1,  12, 164, ...,   0,   1,   0],\n       ...,\n       [  3,  15, 191, ...,   0,   0,   1],\n       [  6,  19, 208, ...,   0,   1,   0],\n       [  1,   1, 191, ...,   1,   1,   0]])"
     },
     "metadata": {},
     "output_type": "execute_result",
     "execution_count": 4
    }
   ],
   "source": [
    "files = glob.glob('dataset/*.txt')\n",
    "X, Y = get_data(files)\n",
    "\n",
    "get_k_best(X,Y,10)"
   ],
   "metadata": {
    "collapsed": false,
    "pycharm": {
     "name": "#%%\n",
     "is_executing": false
    }
   }
  },
  {
   "cell_type": "code",
   "execution_count": 9,
   "outputs": [
    {
     "data": {
      "text/plain": "(array([0, 1, 2, 3, 4]), array([ 68, 142, 230, 263, 198], dtype=int64))"
     },
     "metadata": {},
     "output_type": "execute_result",
     "execution_count": 9
    }
   ],
   "source": [
    "np.unique(Y,return_counts=True)"
   ],
   "metadata": {
    "collapsed": false,
    "pycharm": {
     "name": "#%%\n",
     "is_executing": false
    }
   }
  },
  {
   "cell_type": "code",
   "execution_count": 4,
   "outputs": [],
   "source": [
    "fvalue_selector = SelectKBest(chi2, k=10)\n",
    "fvalue_selector.fit(X, Y)\n",
    "\n",
    "rank = fvalue_selector.scores_\n",
    "top_rank = []\n",
    "indexes = rank.argsort()[-10:][::-1]\n",
    "\n",
    "for index in indexes:\n",
    "    top_rank.append(rank[index])"
   ],
   "metadata": {
    "collapsed": false,
    "pycharm": {
     "name": "#%%\n",
     "is_executing": false
    }
   }
  },
  {
   "cell_type": "code",
   "execution_count": 5,
   "outputs": [],
   "source": [
    "layer_sizes = [10,20,30]\n",
    "momentum_values = [0, 0.9]\n",
    "max_patience = 100\n",
    "filename = \"resultaty5.csv\"\n",
    "rkf = RepeatedStratifiedKFold(n_splits=2, n_repeats=5, random_state=3)"
   ],
   "metadata": {
    "collapsed": false,
    "pycharm": {
     "name": "#%%\n",
     "is_executing": false
    }
   }
  },
  {
   "cell_type": "code",
   "execution_count": 6,
   "outputs": [
    {
     "name": "stdout",
     "text": [
      "koniec_folda0\n",
      "koniec_folda1\n",
      "koniec_folda2\n",
      "koniec_folda3\n",
      "koniec_folda4\n",
      "koniec_folda5\n",
      "koniec_folda6\n",
      "koniec_folda7\n",
      "koniec_folda8\n",
      "koniec_folda9\n"
     ],
     "output_type": "stream"
    },
    {
     "name": "stderr",
     "text": [
      "d:\\studia\\vii semestr\\mstwm2\\venv\\lib\\site-packages\\sklearn\\neural_network\\_multilayer_perceptron.py:585: ConvergenceWarning: Stochastic Optimizer: Maximum iterations (1000) reached and the optimization hasn't converged yet.\n",
      "  % self.max_iter, ConvergenceWarning)\n"
     ],
     "output_type": "stream"
    }
   ],
   "source": [
    "results = pd.DataFrame(columns=[\"fold\",\"layer_size\",\"momentum_value\",\"feature_number\",\"score\"])\n",
    "best_score = 0\n",
    "best_matrix = []    \n",
    "best_params = {}\n",
    "for fold, (train, test) in enumerate(rkf.split(X, Y)):\n",
    "    for layer_size in layer_sizes:\n",
    "        for momentum_value in momentum_values:\n",
    "            patience = max_patience   \n",
    "            temp_best_score = 0\n",
    "            temp_best_matrix = []\n",
    "            temp_best_params = {}\n",
    "            for feature_number in range(1,np.shape(X)[1]+1):\n",
    "                \n",
    "                score, matrix = train_evaluate(X=get_k_best(X,Y,feature_number),\n",
    "                                               Y=Y,\n",
    "                                               momentum_value=momentum_value,\n",
    "                                               layer_size=layer_size,\n",
    "                                               train=train,\n",
    "                                               test=test)\n",
    "                params = {\"fold\":fold,\n",
    "                          \"layer_size\":layer_size,\n",
    "                          \"momentum_value\":momentum_value,\n",
    "                          \"feature_number\":feature_number,\n",
    "                          \"score\":score}\n",
    "                results = results.append(params, ignore_index=True)\n",
    "                #print(f\"{layer_size}\\t{momentum_value}\\t{feature_number}\\t{score}\")   \n",
    "                if score > temp_best_score:\n",
    "                    temp_best_matrix = matrix\n",
    "                    temp_best_score = score\n",
    "                    patience = max_patience\n",
    "                    temp_best_params = params\n",
    "                else:\n",
    "                    patience -= 1\n",
    "                    if patience == 0:\n",
    "                        break\n",
    "            \n",
    "             \n",
    "            if temp_best_score > best_score:\n",
    "                best_matrix = temp_best_matrix\n",
    "                best_params = temp_best_params\n",
    "    print(f\"koniec_folda{fold}\")                "
   ],
   "metadata": {
    "collapsed": false,
    "pycharm": {
     "name": "#%%\n",
     "is_executing": false
    }
   }
  },
  {
   "cell_type": "code",
   "execution_count": 8,
   "outputs": [],
   "source": [
    "with open(\"best_params4.json\",'x') as f:\n",
    "    json.dump(best_params,f)\n",
    "np.savetxt(\"best_matrix4.txt\",best_matrix)"
   ],
   "metadata": {
    "collapsed": false,
    "pycharm": {
     "name": "#%%\n",
     "is_executing": false
    }
   }
  },
  {
   "cell_type": "code",
   "execution_count": 7,
   "outputs": [],
   "source": [
    "results.to_csv(filename)"
   ],
   "metadata": {
    "collapsed": false,
    "pycharm": {
     "name": "#%%\n",
     "is_executing": false
    }
   }
  },
  {
   "cell_type": "code",
   "execution_count": 10,
   "outputs": [],
   "source": [
    "resultaty = pd.read_csv(filename)"
   ],
   "metadata": {
    "collapsed": false,
    "pycharm": {
     "name": "#%%\n",
     "is_executing": false
    }
   }
  }
 ],
 "metadata": {
  "kernelspec": {
   "display_name": "Python 3",
   "language": "python",
   "name": "python3"
  },
  "language_info": {
   "codemirror_mode": {
    "name": "ipython",
    "version": 2
   },
   "file_extension": ".py",
   "mimetype": "text/x-python",
   "name": "python",
   "nbconvert_exporter": "python",
   "pygments_lexer": "ipython2",
   "version": "2.7.6"
  },
  "pycharm": {
   "stem_cell": {
    "cell_type": "raw",
    "source": [],
    "metadata": {
     "collapsed": false
    }
   }
  }
 },
 "nbformat": 4,
 "nbformat_minor": 0
}